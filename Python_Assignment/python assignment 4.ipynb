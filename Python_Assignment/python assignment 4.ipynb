{
 "cells": [
  {
   "cell_type": "raw",
   "metadata": {},
   "source": [
    "1.1 Write a Python Program(with class concepts) to find the area of the triangle using the below formula.\n",
    "    area = (s*(s-a)*(s-b)*(s-c)) ** 0.5\n",
    "Note: Function to take the length of the sides of triangle from user should be defined in the parent\n",
    "class and function to calculate the area should be defined in subclass."
   ]
  },
  {
   "cell_type": "code",
   "execution_count": null,
   "metadata": {},
   "outputs": [],
   "source": [
    "class Triangle:\n",
    "    def __init__(self,a,b,c):\n",
    "        self.a=a\n",
    "        self.b=b\n",
    "        self.c=c\n",
    "        \n",
    "    def Area(self):\n",
    "        s = (self.a+self.b+self.c)/2 #SemiPerimeter\n",
    "        area = (s*(s-self.a)*(s-self.b)*(s-self.c)) ** 0.5\n",
    "        return area\n",
    "a=int(input(\"Enter the length of Side_1 = \"))\n",
    "b=int(input(\"Enter the length of Side_2 = \"))\n",
    "c=int(input(\"Enter the length of Side_3 = \"))\n",
    "\n",
    "obj = Triangle(a,b,c)\n",
    "\n",
    "print(\"Area Of Triangle =\",obj.Area())"
   ]
  },
  {
   "cell_type": "raw",
   "metadata": {},
   "source": [
    "1.2 Write a function filter_long_words() that takes a list of words and an integer n and returns\n",
    "the list of words that are longer than n."
   ]
  },
  {
   "cell_type": "code",
   "execution_count": null,
   "metadata": {},
   "outputs": [],
   "source": [
    "def filter_long_words(l,n):\n",
    "    new_l=[]\n",
    "    for x in l:\n",
    "        if len(x)>n: new_l.append(x)\n",
    "    return new_l\n",
    "\n",
    "l= list(map(str,input(\"Enter List of word Separate by Space : \").split()))\n",
    "n= int(input(\"Enter an integer = \"))\n",
    "print(\"Longer Words : \",*filter_long_words(l,n),sep=' ')"
   ]
  },
  {
   "cell_type": "raw",
   "metadata": {},
   "source": [
    "2.1 Write a Python program using function concept that maps list of words into a list of integers\n",
    "representing the lengths of the corresponding words.\n",
    "Hint: If a list [ ab,cde,erty] is passed on to the python function output should come as [2,3,4]\n",
    "Here 2,3 and 4 are the lengths of the words in the list."
   ]
  },
  {
   "cell_type": "code",
   "execution_count": null,
   "metadata": {},
   "outputs": [],
   "source": [
    "def Length_words(l):\n",
    "    new_l=[]\n",
    "    for x in l:\n",
    "        new_l.append(len(x))\n",
    "    return new_l\n",
    "\n",
    "l= list(map(str,input(\"Enter List of word Separate by Space : \").split()))\n",
    "print(\"Length of Each Words in List : \",*Length_words(l),sep=' ')"
   ]
  },
  {
   "cell_type": "raw",
   "metadata": {},
   "source": [
    "2.2 Write a Python function which takes a character (i.e. a string of length 1) and returns True if\n",
    "it is a vowel, False otherwise."
   ]
  },
  {
   "cell_type": "code",
   "execution_count": null,
   "metadata": {},
   "outputs": [],
   "source": [
    "def vowel(s):\n",
    "    if len(s)==1:\n",
    "        if s.lower() in \"aeiou\": return \"True\"\n",
    "        else: return \"False\"\n",
    "    else: return \"Type char with length 1.\"\n",
    "s = str(input(\"Enter a String : \"))\n",
    "print(vowel(s))\n"
   ]
  },
  {
   "cell_type": "code",
   "execution_count": null,
   "metadata": {},
   "outputs": [],
   "source": []
  }
 ],
 "metadata": {
  "kernelspec": {
   "display_name": "Python 3",
   "language": "python",
   "name": "python3"
  },
  "language_info": {
   "codemirror_mode": {
    "name": "ipython",
    "version": 3
   },
   "file_extension": ".py",
   "mimetype": "text/x-python",
   "name": "python",
   "nbconvert_exporter": "python",
   "pygments_lexer": "ipython3",
   "version": "3.7.6"
  }
 },
 "nbformat": 4,
 "nbformat_minor": 4
}
